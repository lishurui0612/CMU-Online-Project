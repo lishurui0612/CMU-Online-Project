{
 "cells": [
  {
   "cell_type": "markdown",
   "metadata": {},
   "source": [
    "# Answer for Question 1"
   ]
  },
  {
   "cell_type": "code",
   "execution_count": 1,
   "metadata": {},
   "outputs": [],
   "source": [
    "import numpy as np\n",
    "import matplotlib.pyplot as plt\n",
    "import string"
   ]
  },
  {
   "cell_type": "code",
   "execution_count": 2,
   "metadata": {},
   "outputs": [],
   "source": [
    "f1 = open('D:\\学习\\集思项目\\\\Nathaniel Hawthorne.txt','r',encoding = 'utf-8')\n",
    "f2 = open('D:\\学习\\集思项目\\\\Charles Dickens.txt','r',encoding = 'utf-8')"
   ]
  },
  {
   "cell_type": "code",
   "execution_count": 3,
   "metadata": {},
   "outputs": [],
   "source": [
    "NH = f1.read()\n",
    "CD = f2.read()"
   ]
  },
  {
   "cell_type": "code",
   "execution_count": 4,
   "metadata": {},
   "outputs": [],
   "source": [
    "NH_lower = NH.lower()\n",
    "CD_lower = CD.lower()"
   ]
  },
  {
   "cell_type": "code",
   "execution_count": 5,
   "metadata": {},
   "outputs": [],
   "source": [
    "remove = str.maketrans('','',string.punctuation) \n",
    "NH_without_punctuation = NH_lower.translate(remove)\n",
    "CD_without_punctuation = CD_lower.translate(remove)"
   ]
  },
  {
   "cell_type": "code",
   "execution_count": 6,
   "metadata": {},
   "outputs": [],
   "source": [
    "import nltk\n",
    "NH_tokens = nltk.word_tokenize(NH_without_punctuation)\n",
    "CD_tokens = nltk.word_tokenize(CD_without_punctuation)"
   ]
  },
  {
   "cell_type": "code",
   "execution_count": 7,
   "metadata": {},
   "outputs": [],
   "source": [
    "def countWords(t):\n",
    "    \n",
    "    counts = {}\n",
    "    for word in t:\n",
    "        if len(word) == 1:\n",
    "            continue\n",
    "        elif str.isdigit(word) == True:\n",
    "            continue\n",
    "        else:\n",
    "            counts[word] = counts.get(word, 0) + 1\n",
    "    \n",
    "    return counts"
   ]
  },
  {
   "cell_type": "code",
   "execution_count": 8,
   "metadata": {},
   "outputs": [],
   "source": [
    "NH_counts = countWords(NH_tokens)\n",
    "CD_counts = countWords(CD_tokens)"
   ]
  },
  {
   "cell_type": "code",
   "execution_count": 9,
   "metadata": {},
   "outputs": [],
   "source": [
    "target = '\"Joe had got his coat and waistcoat and cravat off, and his leather apron on, and passed into the forge. One of the soldiers opened its wooden windows, another lighted the fire, another turned to at the bellows, the rest stood round the blaze, which was soon roaring. Then Joe began to hammer and clink, hammer and clink, and we all looked on.'\n",
    "target_lower = target.lower()\n",
    "target_without_punctuation = target_lower.translate(remove)\n",
    "target_tokens = nltk.word_tokenize(target_without_punctuation)\n",
    "target_counts = countWords(target_tokens)"
   ]
  },
  {
   "cell_type": "code",
   "execution_count": 10,
   "metadata": {},
   "outputs": [],
   "source": [
    "total_counts = countWords(NH_tokens + CD_tokens)"
   ]
  },
  {
   "cell_type": "code",
   "execution_count": 11,
   "metadata": {},
   "outputs": [],
   "source": [
    "def calcSum(counts):\n",
    "    \n",
    "    sum = 0\n",
    "    \n",
    "    for word in counts:\n",
    "        sum += counts[word]\n",
    "    \n",
    "    return sum\n"
   ]
  },
  {
   "cell_type": "code",
   "execution_count": 12,
   "metadata": {},
   "outputs": [],
   "source": [
    "def calcP(counts, total_counts, target_counts):\n",
    "    \n",
    "    length = len(total_counts)\n",
    "    Sum = calcSum(counts)\n",
    "    \n",
    "    P = 1\n",
    "    \n",
    "    for word in target_counts:\n",
    "        # Using Laplacian Smoothing\n",
    "        if word in counts:\n",
    "            P = P * (counts[word] + 1)/ (Sum + length)\n",
    "        else:\n",
    "            P = P * (0 + 1) / (Sum + length)\n",
    "    \n",
    "    return P"
   ]
  },
  {
   "cell_type": "code",
   "execution_count": 13,
   "metadata": {},
   "outputs": [
    {
     "name": "stdout",
     "output_type": "stream",
     "text": [
      "The probability of text written by Nathaniel Hawthorne is 6.622508962705102e-159 \n",
      "\n",
      "The probability of text written by Charles Dickens is 1.7819968401931808e-142 \n",
      "\n",
      "According to the probability, the text was written by Charles Dickens!\n"
     ]
    }
   ],
   "source": [
    "PinNH = calcP(NH_counts, total_counts, target_counts)\n",
    "PinCD = calcP(CD_counts, total_counts, target_counts)\n",
    "print('The probability of text written by Nathaniel Hawthorne is',PinNH,'\\n')\n",
    "print('The probability of text written by Charles Dickens is',PinCD,'\\n')\n",
    "if PinNH > PinCD:\n",
    "    print('According to the probability, the text was written by Nathaniel Hawthorne!')\n",
    "else:\n",
    "    print('According to the probability, the text was written by Charles Dickens!')"
   ]
  },
  {
   "cell_type": "markdown",
   "metadata": {},
   "source": [
    "# Answer for Question 2 (1)"
   ]
  },
  {
   "cell_type": "code",
   "execution_count": 14,
   "metadata": {},
   "outputs": [],
   "source": [
    "def txt2matrix(Filename):\n",
    "    fr = open(Filename)\n",
    "    fr = fr.readlines()\n",
    "    num_rows = len(fr)\n",
    "    num_columns = len(fr[0].split())\n",
    "    out_matrix = np.zeros((num_rows-1, num_columns))\n",
    "    for i in range(0,num_rows):\n",
    "        out_matrix[i-1,:] = fr[i].split()\n",
    "    return out_matrix"
   ]
  },
  {
   "cell_type": "code",
   "execution_count": 15,
   "metadata": {},
   "outputs": [],
   "source": [
    "data = txt2matrix('D:\\学习\\集思项目\\points.txt')"
   ]
  },
  {
   "cell_type": "code",
   "execution_count": 16,
   "metadata": {},
   "outputs": [
    {
     "data": {
      "image/png": "[encoded data removed]",
      "text/plain": [
       "<Figure size 432x288 with 1 Axes>"
      ]
     },
     "metadata": {
      "needs_background": "light"
     },
     "output_type": "display_data"
    }
   ],
   "source": [
    "row = len(data)\n",
    "area = np.pi * 4 ** 2\n",
    "\n",
    "for i in range(row):\n",
    "    if data[i,2] == -1:\n",
    "        plt.scatter(data[i,0], data[i,1], s = area, c = '#00CED1', alpha = 0.4, label = 'Type 1')\n",
    "    else:\n",
    "        plt.scatter(data[i,0], data[i,1], s = area, c = '#DC143C', alpha = 0.4, label = 'Type 2')"
   ]
  },
  {
   "cell_type": "code",
   "execution_count": 17,
   "metadata": {},
   "outputs": [],
   "source": [
    "X = data[:,0:2]\n",
    "Y = data[:,2:]\n",
    "X = np.column_stack((X,np.ones(len(data))))"
   ]
  },
  {
   "cell_type": "code",
   "execution_count": 18,
   "metadata": {},
   "outputs": [],
   "source": [
    "W = np.ones((3,1))"
   ]
  },
  {
   "cell_type": "code",
   "execution_count": 19,
   "metadata": {},
   "outputs": [],
   "source": [
    "def GradientDescent(X,Y,W):\n",
    "    C = 0.1\n",
    "    eta = 0.0001\n",
    "    length = len(X)\n",
    "    deviation = np.ones((3,1))\n",
    "    while max(eta * deviation) > 0.000001:\n",
    "        for i in range(3):\n",
    "            deviation[i] = W[i]\n",
    "            for j in range(length):\n",
    "                if X[j].dot(W) * Y[j] < 1:\n",
    "                    deviation[i] += C * (-Y[j] * X[j,i])\n",
    "        W = W - eta * deviation\n",
    "    return W"
   ]
  },
  {
   "cell_type": "code",
   "execution_count": 20,
   "metadata": {},
   "outputs": [],
   "source": [
    "W = GradientDescent(X,Y,W)"
   ]
  },
  {
   "cell_type": "code",
   "execution_count": 21,
   "metadata": {},
   "outputs": [],
   "source": [
    "test = np.arange(-5,15,0.1)\n",
    "test_Y = -(W[0] * test + W[2]) / W[1]"
   ]
  },
  {
   "cell_type": "code",
   "execution_count": 22,
   "metadata": {},
   "outputs": [
    {
     "data": {
      "text/plain": [
       "[<matplotlib.lines.Line2D at 0x1c6ce46d908>]"
      ]
     },
     "execution_count": 22,
     "metadata": {},
     "output_type": "execute_result"
    },
    {
     "data": {
      "image/png": "[encoded data removed]",
      "text/plain": [
       "<Figure size 432x288 with 1 Axes>"
      ]
     },
     "metadata": {
      "needs_background": "light"
     },
     "output_type": "display_data"
    }
   ],
   "source": [
    "row = len(data)\n",
    "area = np.pi * 4 ** 2\n",
    "\n",
    "for i in range(row):\n",
    "    if data[i,2] == -1:\n",
    "        plt.scatter(data[i,0], data[i,1], s = area, c = '#00CED1', alpha = 0.4, label = 'Type 1')\n",
    "    else:\n",
    "        plt.scatter(data[i,0], data[i,1], s = area, c = '#DC143C', alpha = 0.4, label = 'Type 2')\n",
    "plt.plot(test, test_Y)"
   ]
  },
  {
   "cell_type": "markdown",
   "metadata": {},
   "source": [
    "# Answer for Question 2 (2)"
   ]
  },
  {
   "cell_type": "code",
   "execution_count": 23,
   "metadata": {},
   "outputs": [],
   "source": [
    "from sklearn.model_selection import train_test_split"
   ]
  },
  {
   "cell_type": "code",
   "execution_count": 24,
   "metadata": {},
   "outputs": [],
   "source": [
    "X_train, X_test, y_train, y_test = train_test_split(data[:,0:2], data[:,2:], test_size = 0.2, random_state=42)"
   ]
  },
  {
   "cell_type": "code",
   "execution_count": 25,
   "metadata": {},
   "outputs": [],
   "source": [
    "X_train = np.column_stack((X_train, np.ones(len(X_train))))\n",
    "X_test = np.column_stack((X_test, np.ones(len(X_test))))"
   ]
  },
  {
   "cell_type": "code",
   "execution_count": 26,
   "metadata": {},
   "outputs": [],
   "source": [
    "W = np.ones((3,1))\n",
    "W = GradientDescent(X_train, y_train, W)"
   ]
  },
  {
   "cell_type": "code",
   "execution_count": 27,
   "metadata": {},
   "outputs": [
    {
     "name": "stdout",
     "output_type": "stream",
     "text": [
      "The Accuracy is  97.5609756097561 %\n",
      "\n"
     ]
    },
    {
     "data": {
      "image/png": "[encoded data removed]",
      "text/plain": [
       "<Figure size 432x288 with 1 Axes>"
      ]
     },
     "metadata": {
      "needs_background": "light"
     },
     "output_type": "display_data"
    }
   ],
   "source": [
    "count = 0\n",
    "for i in range(len(X_test)):\n",
    "    if X_test[i].dot(W) * y_test[i] > 0:\n",
    "        count += 1\n",
    "Accuracy = count / len(X_test)\n",
    "print('The Accuracy is ',Accuracy * 100,'%\\n')\n",
    "\n",
    "test = np.arange(-5,15,0.1)\n",
    "test_Y = -(W[0] * test + W[2]) / W[1]\n",
    "\n",
    "row = len(X_train)\n",
    "area = np.pi * 4 ** 2\n",
    "\n",
    "for i in range(row):\n",
    "    if y_train[i] == -1:\n",
    "        plt.scatter(X_train[i,0], X_train[i,1], s = area, c = '#00CED1', alpha = 0.4, label = 'Type 1')\n",
    "    else:\n",
    "        plt.scatter(X_train[i,0], X_train[i,1], s = area, c = '#DC143C', alpha = 0.4, label = 'Type 2')\n",
    "plt.plot(test, test_Y)\n",
    "\n",
    "for i in range(len(X_test)):\n",
    "    plt.scatter(X_test[i,0], X_test[i,1], s = area, c = 'gold', alpha = 0.4, label = 'Test Data')"
   ]
  },
  {
   "cell_type": "code",
   "execution_count": 28,
   "metadata": {},
   "outputs": [
    {
     "name": "stdout",
     "output_type": "stream",
     "text": [
      "γ = [0.09765377]\n"
     ]
    }
   ],
   "source": [
    "Gamma = W[0] ** 2 + W[1] ** 2\n",
    "print(chr(947),'=',Gamma)"
   ]
  }
 ],
 "metadata": {
  "kernelspec": {
   "display_name": "Python 3",
   "language": "python",
   "name": "python3"
  },
  "language_info": {
   "codemirror_mode": {
    "name": "ipython",
    "version": 3
   },
   "file_extension": ".py",
   "mimetype": "text/x-python",
   "name": "python",
   "nbconvert_exporter": "python",
   "pygments_lexer": "ipython3",
   "version": "3.7.4"
  }
 },
 "nbformat": 4,
 "nbformat_minor": 2
}
