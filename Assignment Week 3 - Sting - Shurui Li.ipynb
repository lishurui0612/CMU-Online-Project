{
 "cells": [
  {
   "cell_type": "code",
   "execution_count": 1,
   "metadata": {},
   "outputs": [],
   "source": [
    "import numpy as np\n",
    "import matplotlib.pyplot as plt\n",
    "import time"
   ]
  },
  {
   "cell_type": "code",
   "execution_count": 2,
   "metadata": {},
   "outputs": [
    {
     "data": {
      "text/plain": [
       "52"
      ]
     },
     "execution_count": 2,
     "metadata": {},
     "output_type": "execute_result"
    }
   ],
   "source": [
    "fr = open('D:\\学习\\集思项目\\Homework 2\\LES.txt')\n",
    "fr = fr.readlines()\n",
    "len(fr)"
   ]
  },
  {
   "cell_type": "code",
   "execution_count": 3,
   "metadata": {},
   "outputs": [],
   "source": [
    "def txt2matrix(Filename):\n",
    "    fr = open(Filename)\n",
    "    fr = fr.readlines()\n",
    "    num_rows = len(fr)\n",
    "    num_columns = len(fr[0].split())\n",
    "    out_matrix = np.zeros((num_rows-1, num_columns))\n",
    "    for i in range(1,num_rows):\n",
    "        out_matrix[i-1,:] = fr[i].split()\n",
    "    return out_matrix\n",
    "\n",
    "data = txt2matrix('D:\\学习\\集思项目\\Homework 2\\LES.txt')"
   ]
  },
  {
   "cell_type": "code",
   "execution_count": 4,
   "metadata": {},
   "outputs": [],
   "source": [
    "X = data[:,0:1]\n",
    "Y = data[:,1:2]\n",
    "Y1 = data[:,2:3]\n",
    "Y2 = data[:,3:]"
   ]
  },
  {
   "cell_type": "markdown",
   "metadata": {},
   "source": [
    "# Answer for Question 1"
   ]
  },
  {
   "cell_type": "markdown",
   "metadata": {},
   "source": [
    "# 1、For Y"
   ]
  },
  {
   "cell_type": "code",
   "execution_count": 5,
   "metadata": {},
   "outputs": [],
   "source": [
    "# Using Gradient Descent Linear Regression\n",
    "alpha = 0.0001\n",
    "theta_hat = np.ones((2,1))"
   ]
  },
  {
   "cell_type": "code",
   "execution_count": 6,
   "metadata": {},
   "outputs": [],
   "source": [
    "def calculate_J(X,Y,H,theta):\n",
    "    m = len(X)\n",
    "    Y_hat = H.dot(theta)\n",
    "    J = (Y_hat - Y).T.dot(Y_hat - Y) / (2 * m)\n",
    "    return J"
   ]
  },
  {
   "cell_type": "code",
   "execution_count": 7,
   "metadata": {},
   "outputs": [],
   "source": [
    "def diff_J(X,Y,H,theta):\n",
    "    m = len(X)\n",
    "    n = len(theta)\n",
    "    diff_J = np.zeros((n,1))\n",
    "    for i in range(n):\n",
    "        diff_J[i] = np.sum((H.dot(theta) - Y) * H[:,i:i+1]) / m\n",
    "    return diff_J"
   ]
  },
  {
   "cell_type": "code",
   "execution_count": 8,
   "metadata": {},
   "outputs": [
    {
     "name": "stdout",
     "output_type": "stream",
     "text": [
      "time cost 1.4388728141784668 s\n"
     ]
    }
   ],
   "source": [
    "time_start = time.time()\n",
    "\n",
    "alpha = 0.0001\n",
    "H = np.column_stack((X, np.ones(51)))\n",
    "theta_hat_2 = theta_hat - alpha * diff_J(X,Y,H,theta_hat)\n",
    "diff = calculate_J(X,Y,H,theta_hat) - calculate_J(X,Y,H,theta_hat_2)\n",
    "while (diff > 0.000001):\n",
    "    theta_hat = theta_hat_2\n",
    "    theta_hat_2 = theta_hat - alpha * diff_J(X,Y,H,theta_hat)\n",
    "    diff = calculate_J(X,Y,H,theta_hat) - calculate_J(X,Y,H,theta_hat_2)\n",
    "    \n",
    "time_end = time.time()\n",
    "time_c= time_end - time_start   #运行所花时间\n",
    "print('time cost', time_c, 's')"
   ]
  },
  {
   "cell_type": "code",
   "execution_count": 9,
   "metadata": {},
   "outputs": [
    {
     "name": "stdout",
     "output_type": "stream",
     "text": [
      "theta_hat is \n",
      " [[2.93057793]\n",
      " [2.59883486]]\n"
     ]
    },
    {
     "data": {
      "image/png": "[encoded data removed]",
      "text/plain": [
       "<Figure size 432x288 with 1 Axes>"
      ]
     },
     "metadata": {
      "needs_background": "light"
     },
     "output_type": "display_data"
    }
   ],
   "source": [
    "prediction_Y = H.dot(theta_hat)\n",
    "plt.scatter(X, Y, label = 'Raw Data')\n",
    "plt.plot(X, prediction_Y)\n",
    "plt.title('Using Gradient Decsent Method')\n",
    "print(\"theta_hat is \\n\",theta_hat)"
   ]
  },
  {
   "cell_type": "code",
   "execution_count": 10,
   "metadata": {},
   "outputs": [
    {
     "name": "stdout",
     "output_type": "stream",
     "text": [
      "theta_hat is \n",
      " [[2.80674245]\n",
      " [3.00405741]]\n"
     ]
    },
    {
     "data": {
      "image/png": "[encoded data removed]",
      "text/plain": [
       "<Figure size 432x288 with 1 Axes>"
      ]
     },
     "metadata": {
      "needs_background": "light"
     },
     "output_type": "display_data"
    }
   ],
   "source": [
    "H = np.column_stack((X, np.ones(51)))\n",
    "theta_hat = np.linalg.inv(H.T.dot(H)).dot(H.T).dot(Y)\n",
    "prediction_Y = H.dot(theta_hat)\n",
    "plt.scatter(X, Y, label = 'Raw Data')\n",
    "plt.plot(X, prediction_Y)\n",
    "plt.title('Using Closed Form')\n",
    "print(\"theta_hat is \\n\",theta_hat)"
   ]
  },
  {
   "cell_type": "markdown",
   "metadata": {},
   "source": [
    "# 2、For Y1"
   ]
  },
  {
   "cell_type": "code",
   "execution_count": 11,
   "metadata": {},
   "outputs": [
    {
     "name": "stdout",
     "output_type": "stream",
     "text": [
      "time cost 1.296177864074707 s\n"
     ]
    }
   ],
   "source": [
    "time_start = time.time()\n",
    "\n",
    "alpha = 0.0001\n",
    "theta1_hat = np.ones((3,1))\n",
    "H1 = np.column_stack((X ** 2, X, np.ones(51)))\n",
    "\n",
    "\n",
    "theta1_hat_2 = theta1_hat - alpha * diff_J(X,Y1,H1,theta1_hat)\n",
    "diff = calculate_J(X,Y1,H1,theta1_hat) - calculate_J(X,Y1,H1,theta1_hat_2)\n",
    "while (diff > 0.000001):\n",
    "    theta1_hat = theta1_hat_2\n",
    "    theta1_hat_2 = theta1_hat - alpha * diff_J(X,Y1,H1,theta1_hat)\n",
    "    diff = calculate_J(X,Y1,H1,theta1_hat) - calculate_J(X,Y1,H1,theta1_hat_2)\n",
    "    \n",
    "time_end = time.time()\n",
    "time_c= time_end - time_start   #运行所花时间\n",
    "print('time cost', time_c, 's')"
   ]
  },
  {
   "cell_type": "code",
   "execution_count": 12,
   "metadata": {},
   "outputs": [
    {
     "name": "stdout",
     "output_type": "stream",
     "text": [
      "theta_hat is \n",
      " [[1.05279118]\n",
      " [2.71428695]\n",
      " [2.65294595]]\n"
     ]
    },
    {
     "data": {
      "image/png": "[encoded data removed]",
      "text/plain": [
       "<Figure size 432x288 with 1 Axes>"
      ]
     },
     "metadata": {
      "needs_background": "light"
     },
     "output_type": "display_data"
    }
   ],
   "source": [
    "prediction_Y1 = H1.dot(theta1_hat)\n",
    "plt.scatter(X, Y1, label = 'Raw Data')\n",
    "plt.plot(X, prediction_Y1)\n",
    "plt.title('Using Gradient Decsent Method')\n",
    "print(\"theta_hat is \\n\",theta1_hat)"
   ]
  },
  {
   "cell_type": "code",
   "execution_count": 13,
   "metadata": {},
   "outputs": [
    {
     "name": "stdout",
     "output_type": "stream",
     "text": [
      "theta1_hat is \n",
      " [[1.05579723]\n",
      " [2.63511396]\n",
      " [2.90445558]]\n"
     ]
    },
    {
     "data": {
      "image/png": "[encoded data removed]",
      "text/plain": [
       "<Figure size 432x288 with 1 Axes>"
      ]
     },
     "metadata": {
      "needs_background": "light"
     },
     "output_type": "display_data"
    }
   ],
   "source": [
    "theta1_hat = np.linalg.inv(H1.T.dot(H1)).dot(H1.T).dot(Y1)\n",
    "prediction_Y1 = H1.dot(theta1_hat)\n",
    "plt.scatter(X, Y1, label = 'Raw Data')\n",
    "plt.plot(X, prediction_Y1)\n",
    "plt.title('Using Closed Form')\n",
    "print(\"theta1_hat is \\n\",theta1_hat)"
   ]
  },
  {
   "cell_type": "markdown",
   "metadata": {},
   "source": [
    "# 3、For Y2"
   ]
  },
  {
   "cell_type": "code",
   "execution_count": 14,
   "metadata": {},
   "outputs": [],
   "source": [
    "def calculate_J(X,Y,theta):\n",
    "    m = len(X)\n",
    "    Y_hat = np.zeros((m,1))\n",
    "    for i in range(m):\n",
    "        Y_hat[i] = theta[0] * np.exp(theta[1] * X[i])\n",
    "    J = (Y_hat - Y).T.dot(Y_hat - Y) / (2 * m)\n",
    "    return J"
   ]
  },
  {
   "cell_type": "code",
   "execution_count": 15,
   "metadata": {},
   "outputs": [],
   "source": [
    "def diff_J(X,Y,theta):\n",
    "    m = len(X)\n",
    "    n = len(theta)\n",
    "    \n",
    "    Y_hat = np.zeros((m,1))\n",
    "    for i in range(m):\n",
    "        Y_hat[i] = theta[0] * np.exp(theta[1] * X[i])\n",
    "        \n",
    "    diff_J = np.zeros((n,1))\n",
    "    diff_J[0] = np.sum((Y_hat - Y) * np.exp(theta[1] * X)) / m\n",
    "    diff_J[1] = np.sum((Y_hat - Y) * X * theta[0] * np.exp(theta[1] * X)) / m\n",
    "    \n",
    "    return diff_J\n"
   ]
  },
  {
   "cell_type": "code",
   "execution_count": 16,
   "metadata": {},
   "outputs": [
    {
     "name": "stdout",
     "output_type": "stream",
     "text": [
      "time cost 63.35401678085327 s\n"
     ]
    }
   ],
   "source": [
    "time_start = time.time()\n",
    "\n",
    "alpha = 0.00001\n",
    "theta2_hat = np.ones((2,1))\n",
    "\n",
    "\n",
    "theta2_hat_2 = theta2_hat - alpha * diff_J(X,Y2,theta2_hat)\n",
    "diff = calculate_J(X,Y2,theta2_hat) - calculate_J(X,Y2,theta2_hat_2)\n",
    "while (diff > 0.000001):\n",
    "    theta2_hat = theta2_hat_2\n",
    "    theta2_hat_2 = theta2_hat - alpha * diff_J(X,Y2,theta2_hat)\n",
    "    diff = calculate_J(X,Y2,theta2_hat) - calculate_J(X,Y2,theta2_hat_2)\n",
    "    \n",
    "time_end = time.time()\n",
    "time_c= time_end - time_start   #运行所花时间\n",
    "print('time cost', time_c, 's')"
   ]
  },
  {
   "cell_type": "code",
   "execution_count": 17,
   "metadata": {},
   "outputs": [
    {
     "name": "stdout",
     "output_type": "stream",
     "text": [
      "theta2_hat is \n",
      " [[5.54904567]\n",
      " [0.4854753 ]]\n"
     ]
    },
    {
     "data": {
      "image/png": "[encoded data removed]",
      "text/plain": [
       "<Figure size 432x288 with 1 Axes>"
      ]
     },
     "metadata": {
      "needs_background": "light"
     },
     "output_type": "display_data"
    }
   ],
   "source": [
    "prediction_Y2 = np.zeros(51)\n",
    "\n",
    "for i in range(51):\n",
    "    prediction_Y2[i] = theta2_hat[0] * np.exp(theta2_hat[1] * X[i])\n",
    "plt.scatter(X, Y2, label = 'Raw Data')\n",
    "plt.plot(X, prediction_Y2)\n",
    "plt.title('Using Gradient Decsent Method')\n",
    "\n",
    "print(\"theta2_hat is \\n\",theta2_hat)"
   ]
  },
  {
   "cell_type": "code",
   "execution_count": 18,
   "metadata": {},
   "outputs": [
    {
     "name": "stdout",
     "output_type": "stream",
     "text": [
      "time cost 0.0 s\n",
      "\n",
      "theta2_hat is \n",
      " [[5.78913267]\n",
      " [0.47553971]]\n"
     ]
    },
    {
     "data": {
      "image/png": "[encoded data removed]",
      "text/plain": [
       "<Figure size 432x288 with 1 Axes>"
      ]
     },
     "metadata": {
      "needs_background": "light"
     },
     "output_type": "display_data"
    }
   ],
   "source": [
    "time_start = time.time()\n",
    "\n",
    "theta2_hat = np.ones((2,1))\n",
    "H2 = np.zeros((51,2))\n",
    "W = np.identity(51)\n",
    "delta_Z = np.ones((51,1))\n",
    "delta_theta2_hat = np.ones((2,1))\n",
    "\n",
    "while (delta_theta2_hat[0] > 0.000001 or delta_theta2_hat[1] > 0.000001):\n",
    "    for i in range(51):\n",
    "        delta_Z[i] = Y2[i] - theta2_hat[0] * np.exp(theta2_hat[1] * X[i])\n",
    "        H2[i,0] = np.exp(theta2_hat[1] * X[i])\n",
    "        H2[i,1] = theta2_hat[0] * X[i] * np.exp(theta2_hat[1] * X[i])\n",
    "    delta_theta2_hat = np.linalg.inv(H2.T.dot(W.dot(H2))).dot(H2.T.dot(W.dot(delta_Z)))\n",
    "    theta2_hat = theta2_hat + delta_theta2_hat\n",
    "\n",
    "time_end = time.time()\n",
    "time_c= time_end - time_start   #运行所花时间\n",
    "print('time cost', time_c, 's\\n')\n",
    "    \n",
    "prediction_Y2 = np.zeros(51)\n",
    "\n",
    "for i in range(51):\n",
    "    prediction_Y2[i] = theta2_hat[0] * np.exp(theta2_hat[1] * X[i])\n",
    "plt.scatter(X, Y2, label = 'Raw Data')\n",
    "plt.plot(X, prediction_Y2)\n",
    "plt.title('Using Newton-Raphson Method')\n",
    "\n",
    "print(\"theta2_hat is \\n\",theta2_hat)"
   ]
  },
  {
   "cell_type": "markdown",
   "metadata": {},
   "source": [
    "In terms of the results of program, closed form is preferable in this cases. Because Gradient Descent Method cost much more time."
   ]
  },
  {
   "cell_type": "markdown",
   "metadata": {},
   "source": [
    "# Answer for Question 2"
   ]
  },
  {
   "cell_type": "code",
   "execution_count": 19,
   "metadata": {
    "scrolled": false
   },
   "outputs": [],
   "source": [
    "def createDataSet():\n",
    "    \n",
    "    TrainingdataSet = [\n",
    "        # 1\n",
    "        ['乌黑', '蜷缩', '沉闷', '清晰', '凹陷', '硬滑', 0.774, 0.376, '好瓜'],\n",
    "        # 2\n",
    "        ['乌黑', '蜷缩', '浊响', '清晰', '凹陷', '硬滑', 0.634, 0.264, '好瓜'],\n",
    "        # 3\n",
    "        ['青绿', '蜷缩', '沉闷', '清晰', '凹陷', '硬滑', 0.608, 0.318, '好瓜'],\n",
    "        # 4\n",
    "        ['浅白', '蜷缩', '浊响', '清晰', '凹陷', '硬滑', 0.556, 0.215, '好瓜'],\n",
    "        # 5\n",
    "        ['青绿', '稍蜷', '浊响', '清晰', '稍凹', '软粘', 0.403, 0.237, '好瓜'],\n",
    "        # 6\n",
    "        ['乌黑', '稍蜷', '浊响', '稍糊', '稍凹', '软粘', 0.481, 0.149, '好瓜'],\n",
    "        # 7\n",
    "        ['乌黑', '稍蜷', '浊响', '清晰', '稍凹', '硬滑', 0.437, 0.211, '好瓜'],\n",
    "        # ----------------------------------------------------\n",
    "        # 8\n",
    "        ['乌黑', '稍蜷', '沉闷', '稍糊', '稍凹', '硬滑', 0.666, 0.091, '坏瓜'],\n",
    "        # 9\n",
    "        ['青绿', '硬挺', '清脆', '清晰', '平坦', '软粘', 0.243, 0.267, '坏瓜'],\n",
    "        # 10\n",
    "        ['青绿', '稍蜷', '浊响', '稍糊', '凹陷', '硬滑', 0.639, 0.161, '坏瓜'],\n",
    "        # 11\n",
    "        ['浅白', '稍蜷', '沉闷', '稍糊', '凹陷', '硬滑', 0.657, 0.198, '坏瓜'],\n",
    "        # 12\n",
    "        ['乌黑', '稍蜷', '浊响', '清晰', '稍凹', '软粘', 0.360, 0.370, '坏瓜'],\n",
    "        # 13\n",
    "        ['浅白', '蜷缩', '浊响', '模糊', '平坦', '硬滑', 0.593, 0.042, '坏瓜'],\n",
    "        # 14\n",
    "        ['青绿', '蜷缩', '沉闷', '稍糊', '稍凹', '硬滑', 0.719, 0.103, '坏瓜']\n",
    "    ]\n",
    "    \n",
    "    TestdataSet = [\n",
    "        # 1\n",
    "        ['浅白', '硬挺', '清脆', '模糊', '平坦', '硬滑', 0.245, 0.057, '坏瓜'],\n",
    "        # 2\n",
    "        ['浅白', '蜷缩', '浊响', '模糊', '平坦', '软粘', 0.343, 0.099, '坏瓜'],\n",
    "        # 3\n",
    "        ['青绿', '蜷缩', '浊响', '清晰', '凹陷', '硬滑', 0.697, 0.460, '好瓜'],\n",
    "    ]\n",
    "    \n",
    "    \n",
    "    labels = ['色泽', '根蒂', '敲击', '纹理', '脐部', '触感', '密度', '含糖率']\n",
    "    \n",
    "    labels_full = {}\n",
    "\n",
    "    for i in range(len(labels)):\n",
    "        labelList = [example[i] for example in TrainingdataSet]\n",
    "        uniqueLabel = set(labelList)\n",
    "        labels_full[labels[i]] = uniqueLabel\n",
    "\n",
    "    return TrainingdataSet, TestdataSet, labels, labels_full"
   ]
  },
  {
   "cell_type": "code",
   "execution_count": 20,
   "metadata": {},
   "outputs": [],
   "source": [
    "import collections\n",
    "import operator\n",
    "\n",
    "def majorityCnt(classList):\n",
    "    \n",
    "    classCount = collections.defaultdict(int)\n",
    "    \n",
    "    for vote in classList:\n",
    "        classCount[vote] += 1\n",
    "    \n",
    "    sortedClassCount = sotred(classCount.items(), keys = operator.itemgetter(1), reverse = True)\n",
    "    \n",
    "    return sortedClassCount[0][0]"
   ]
  },
  {
   "cell_type": "code",
   "execution_count": 21,
   "metadata": {},
   "outputs": [],
   "source": [
    "from math import log\n",
    "\n",
    "def calcShannonEnt(dataSet):\n",
    "    \n",
    "    numEntries = len(dataSet)\n",
    "    \n",
    "    labelCounts = collections.defaultdict(int)\n",
    "    \n",
    "    for featVec in dataSet:\n",
    "        currentLabel = featVec[-1]\n",
    "        labelCounts[currentLabel] += 1\n",
    "    \n",
    "    shannonEnt = 0.0\n",
    "    for key in labelCounts:\n",
    "        prob = float(labelCounts[key]) / numEntries\n",
    "        shannonEnt -= prob * log(prob,2)\n",
    "    \n",
    "    return shannonEnt"
   ]
  },
  {
   "cell_type": "code",
   "execution_count": 22,
   "metadata": {},
   "outputs": [],
   "source": [
    "def splitDataSet(dataSet, axis, value):\n",
    "    \n",
    "    retDataSet = []\n",
    "    \n",
    "    for featVec in dataSet:\n",
    "        if featVec[axis] == value:\n",
    "            reducedFeatVec = featVec[:axis]\n",
    "            reducedFeatVec.extend(featVec[axis + 1:])\n",
    "            retDataSet.append(reducedFeatVec)\n",
    "    \n",
    "    return retDataSet"
   ]
  },
  {
   "cell_type": "code",
   "execution_count": 23,
   "metadata": {},
   "outputs": [],
   "source": [
    "def splitDataSetForSeries(dataSet, axis, value):\n",
    "    \n",
    "    eltDataSet = []\n",
    "    \n",
    "    gtDataSet = []\n",
    "    \n",
    "    for feat in dataSet:\n",
    "        if feat[axis] <= value:\n",
    "            eltDataSet.append(feat)\n",
    "        else:\n",
    "            gtDataSet.append(feat)\n",
    "\n",
    "    return eltDataSet, gtDataSet"
   ]
  },
  {
   "cell_type": "code",
   "execution_count": 24,
   "metadata": {},
   "outputs": [],
   "source": [
    "def calcInfoGain(dataSet, featList, i, baseEntropy):\n",
    "    \n",
    "    uniqueVals = set(featList)\n",
    "    \n",
    "    newEntropy = 0.0\n",
    "    \n",
    "    for value in uniqueVals:\n",
    "        subDataSet = splitDataSet(dataSet = dataSet, axis = i, value = value)\n",
    "        prob = len(subDataSet) / float(len(dataSet))\n",
    "        newEntropy += prob * calcShannonEnt(subDataSet)\n",
    "    \n",
    "    infoGain = baseEntropy - newEntropy\n",
    "    \n",
    "    return infoGain"
   ]
  },
  {
   "cell_type": "code",
   "execution_count": 25,
   "metadata": {},
   "outputs": [],
   "source": [
    "def calcInfoGainForSeries(dataSet, i, baseEntropy):\n",
    "    \n",
    "    maxInfoGain = 0.0\n",
    "    bestMid = -1\n",
    "    featList = [example[i] for example in dataSet]\n",
    "    classList = [example[-1] for example in dataSet]\n",
    "    dictList = dict(zip(featList, classList))\n",
    "    \n",
    "    sortedFeatList = sorted(dictList.items(), key = operator.itemgetter(0))\n",
    "    numberForFeatList = len(sortedFeatList)\n",
    "    midFeatList = [round((sortedFeatList[i][0] + sortedFeatList[i+1][0]) / 2.0, 3) for i in range(numberForFeatList - 1)]\n",
    "    \n",
    "    for mid in midFeatList:\n",
    "        eltDataSet, gtDataSet = splitDataSetForSeries(dataSet, i, mid)\n",
    "        newEntropy = len(eltDataSet) / len(sortedFeatList) * calcShannonEnt(eltDataSet) + len(gtDataSet) / len(sortedFeatList) * calcShannonEnt(gtDataSet)\n",
    "        infoGain = baseEntropy - newEntropy\n",
    "        if infoGain > maxInfoGain:\n",
    "            bestMid = mid\n",
    "            maxInfoGain = infoGain\n",
    "\n",
    "    return maxInfoGain, bestMid"
   ]
  },
  {
   "cell_type": "code",
   "execution_count": 26,
   "metadata": {},
   "outputs": [],
   "source": [
    "def chooseBestFeatureToSplit(dataSet, labels):\n",
    "    \n",
    "    numFeatures = len(dataSet[0]) - 1\n",
    "    \n",
    "    baseEntropy = calcShannonEnt(dataSet)\n",
    "    bestInfoGain = 0.0\n",
    "    bestFeature = -1\n",
    "    flagSeries = 0\n",
    "    bestSeriesMid = 0.0\n",
    "    \n",
    "    for i in range(numFeatures):\n",
    "        featList = [example[i] for example in dataSet]\n",
    "        if isinstance(featList[0], str):\n",
    "            infoGain = calcInfoGain(dataSet, featList, i, baseEntropy)\n",
    "        else:\n",
    "            infoGain, bestMid = calcInfoGainForSeries(dataSet, i, baseEntropy)\n",
    "        \n",
    "        if infoGain > bestInfoGain:\n",
    "            bestInfoGain = infoGain\n",
    "            bestFeature = i\n",
    "            \n",
    "            flagSeries = 0\n",
    "            if not isinstance(dataSet[0][bestFeature], str):\n",
    "                flagSeries = 1\n",
    "                bestSeriesMid = bestMid\n",
    "                \n",
    "    if flagSeries:\n",
    "        return bestFeature, bestSeriesMid\n",
    "    else:\n",
    "        return bestFeature"
   ]
  },
  {
   "cell_type": "code",
   "execution_count": 27,
   "metadata": {},
   "outputs": [],
   "source": [
    "def createTree(dataSet, labels):\n",
    "    \n",
    "    classList = [example[-1] for example in dataSet]\n",
    "    \n",
    "    if classList.count(classList[0]) == len(classList):\n",
    "        return classList[0]\n",
    "    \n",
    "    if len(dataSet[0]) == 1:\n",
    "        return majorityCnt(classList)\n",
    "    \n",
    "    bestFeat = chooseBestFeatureToSplit(dataSet = dataSet, labels = labels)\n",
    "    \n",
    "    bestFeatLabel = ''\n",
    "    flagSeries = 0\n",
    "    midSeries = 0.0\n",
    "    \n",
    "    if isinstance(bestFeat, tuple):\n",
    "        bestFeatLabel = str(labels[bestFeat[0]]) + '小于' + str(bestFeat[1]) + '?'\n",
    "        midSeries = bestFeat[1]\n",
    "        bestFeat = bestFeat[0]\n",
    "        flagSeries = 1\n",
    "    else:\n",
    "        bestFeatLabel = labels[bestFeat]\n",
    "        flagSeries = 0\n",
    "    \n",
    "    myTree = {bestFeatLabel: {}}\n",
    "    featValues = [example[bestFeat] for example in dataSet]\n",
    "    \n",
    "    if flagSeries:\n",
    "        eltDataSet, gtDataSet = splitDataSetForSeries(dataSet, bestFeat, midSeries)\n",
    "        subLabels = labels[:]\n",
    "        subTree = createTree(eltDataSet, subLabels)\n",
    "        myTree[bestFeatLabel]['小于'] = subTree\n",
    "\n",
    "        subTree = createTree(gtDataSet, subLabels)\n",
    "        myTree[bestFeatLabel]['大于'] = subTree\n",
    "\n",
    "        return myTree\n",
    "    else:\n",
    "        del (labels[bestFeat])\n",
    "        uniqueVals = set(featValues)\n",
    "        for value in uniqueVals:\n",
    "            subLabels = labels[:]\n",
    "            subTree = createTree(splitDataSet(dataSet=dataSet, axis=bestFeat, value=value), subLabels)\n",
    "            myTree[bestFeatLabel][value] = subTree\n",
    "        return myTree"
   ]
  },
  {
   "cell_type": "code",
   "execution_count": 28,
   "metadata": {},
   "outputs": [
    {
     "data": {
      "text/plain": [
       "{'纹理': {'清晰': {'密度小于0.382?': {'小于': '坏瓜', '大于': '好瓜'}},\n",
       "  '稍糊': {'触感': {'硬滑': '坏瓜', '软粘': '好瓜'}},\n",
       "  '模糊': '坏瓜'}}"
      ]
     },
     "execution_count": 28,
     "metadata": {},
     "output_type": "execute_result"
    }
   ],
   "source": [
    "TrainingdataSet, TestdataSet, labels, labels_full = createDataSet()\n",
    "\n",
    "myTree = createTree(TrainingdataSet, labels)\n",
    "myTree"
   ]
  },
  {
   "cell_type": "code",
   "execution_count": 29,
   "metadata": {},
   "outputs": [
    {
     "data": {
      "image/png": "[encoded data removed]",
      "text/plain": [
       "<Figure size 432x288 with 1 Axes>"
      ]
     },
     "metadata": {},
     "output_type": "display_data"
    },
    {
     "data": {
      "text/plain": [
       "[['乌黑', '蜷缩', '沉闷', '清晰', '凹陷', '硬滑', 0.774, 0.376, '好瓜'],\n",
       " ['乌黑', '蜷缩', '浊响', '清晰', '凹陷', '硬滑', 0.634, 0.264, '好瓜'],\n",
       " ['青绿', '蜷缩', '沉闷', '清晰', '凹陷', '硬滑', 0.608, 0.318, '好瓜'],\n",
       " ['浅白', '蜷缩', '浊响', '清晰', '凹陷', '硬滑', 0.556, 0.215, '好瓜'],\n",
       " ['青绿', '稍蜷', '浊响', '清晰', '稍凹', '软粘', 0.403, 0.237, '好瓜'],\n",
       " ['乌黑', '稍蜷', '浊响', '稍糊', '稍凹', '软粘', 0.481, 0.149, '好瓜'],\n",
       " ['乌黑', '稍蜷', '浊响', '清晰', '稍凹', '硬滑', 0.437, 0.211, '好瓜'],\n",
       " ['乌黑', '稍蜷', '沉闷', '稍糊', '稍凹', '硬滑', 0.666, 0.091, '坏瓜'],\n",
       " ['青绿', '硬挺', '清脆', '清晰', '平坦', '软粘', 0.243, 0.267, '坏瓜'],\n",
       " ['青绿', '稍蜷', '浊响', '稍糊', '凹陷', '硬滑', 0.639, 0.161, '坏瓜'],\n",
       " ['浅白', '稍蜷', '沉闷', '稍糊', '凹陷', '硬滑', 0.657, 0.198, '坏瓜'],\n",
       " ['乌黑', '稍蜷', '浊响', '清晰', '稍凹', '软粘', 0.36, 0.37, '坏瓜'],\n",
       " ['浅白', '蜷缩', '浊响', '模糊', '平坦', '硬滑', 0.593, 0.042, '坏瓜'],\n",
       " ['青绿', '蜷缩', '沉闷', '稍糊', '稍凹', '硬滑', 0.719, 0.103, '坏瓜']]"
      ]
     },
     "execution_count": 29,
     "metadata": {},
     "output_type": "execute_result"
    }
   ],
   "source": [
    "import matplotlib.pyplot as plt\n",
    "import matplotlib as mpl\n",
    "\n",
    "mpl.rcParams['font.sans-serif'] = ['KaiTi', 'SimHei', 'FangSong']  # 汉字字体,优先使用楷体，如果找不到楷体，则使用黑体\n",
    "mpl.rcParams['font.size'] = 12  # 字体大小\n",
    "mpl.rcParams['axes.unicode_minus'] = False  # 正常显示负号\n",
    "\n",
    "descisionNode = dict(boxstyle='sawtooth', fc='0.8')\n",
    "leafNode = dict(boxstyle='round4', fc='0.8')\n",
    "arrow_args = dict(arrowstyle= '<-')\n",
    "\n",
    "def plotNode(nodeTxt, centerPt, parentPt, nodeType):\n",
    "    createPlot.ax1.annotate(nodeTxt, xy=parentPt, xycoords='axes fraction',\n",
    "                             xytext=centerPt, textcoords='axes fraction',\n",
    "                              va='center', ha='center', bbox=nodeType, arrowprops=arrow_args)\n",
    "\n",
    "def getNumLeafs(myTree):\n",
    "    numLeafs = 0\n",
    "    firstStr = list(myTree.keys())[0]\n",
    "    secondDict = myTree[firstStr]\n",
    "    for key in secondDict.keys():\n",
    "        if type(secondDict[key]).__name__ == 'dict':\n",
    "            numLeafs += getNumLeafs(secondDict[key])\n",
    "        else:\n",
    "            numLeafs += 1\n",
    "    return numLeafs\n",
    "\n",
    "\n",
    "def getTreeDepth(myTree):\n",
    "    maxDepth = 0\n",
    "    firstStr = list(myTree.keys())[0]  \n",
    "    secondDict = myTree[firstStr]\n",
    "    for key in secondDict.keys():\n",
    "        if type(secondDict[key]).__name__ == 'dict':\n",
    "            thisDepth = 1 + getTreeDepth(secondDict[key])\n",
    "        else:\n",
    "            thisDepth = 1\n",
    "        if thisDepth > maxDepth:\n",
    "            maxDepth = thisDepth\n",
    "    return maxDepth\n",
    "\n",
    "def createPlot(inTree):\n",
    "    fig = plt.figure(1, facecolor='white')\n",
    "    fig.clf()\n",
    "    axprops = {'xticks': None, 'yticks': None}\n",
    "    createPlot.ax1 = plt.subplot(111, frameon=False)\n",
    "    plotTree.totalW = float(getNumLeafs(inTree)) \n",
    "    plotTree.totalD = float(getTreeDepth(inTree))   \n",
    "    plotTree.xOff = -0.5/plotTree.totalW\n",
    "    plotTree.yOff = 1.0\n",
    "    plotTree(inTree, (0.5, 1.0), '')\n",
    "    plt.show()\n",
    "\n",
    "\n",
    "def plotTree(myTree, parentPt, nodeTxt):\n",
    "    numLeafs = getNumLeafs(myTree)\n",
    "    depth = getTreeDepth(myTree)\n",
    "    firstStr = list(myTree.keys())[0]\n",
    "    cntrPt = (plotTree.xOff + (1.0 + float(numLeafs))/2.0/plotTree.totalW, plotTree.yOff)\n",
    "    plotMidText(cntrPt, parentPt, nodeTxt)\n",
    "    plotNode(firstStr, cntrPt, parentPt, descisionNode)\n",
    "    seconDict = myTree[firstStr]\n",
    "    plotTree.yOff = plotTree.yOff - 1.0/plotTree.totalD\n",
    "    for key in seconDict.keys():\n",
    "        if type(seconDict[key]).__name__ == 'dict':\n",
    "            plotTree(seconDict[key], cntrPt, str(key))\n",
    "        else:\n",
    "            plotTree.xOff = plotTree.xOff + 1.0/plotTree.totalW\n",
    "            plotNode(seconDict[key], (plotTree.xOff, plotTree.yOff), cntrPt, leafNode)\n",
    "            plotMidText((plotTree.xOff, plotTree.yOff), cntrPt, str(key))\n",
    "    plotTree.yOff = plotTree.yOff + 1.0/plotTree.totalD\n",
    "\n",
    "\n",
    "def plotMidText(cntrPt, parentPt, txtString):\n",
    "    xMid = (parentPt[0] - cntrPt[0])/2.0 + cntrPt[0]\n",
    "    yMid = (parentPt[1] - cntrPt[1])/2.0 + cntrPt[1]\n",
    "    createPlot.ax1.text(xMid, yMid, txtString, va='center', ha='center', rotation=30)\n",
    "\n",
    "createPlot(myTree)\n",
    "TrainingdataSet"
   ]
  },
  {
   "cell_type": "code",
   "execution_count": 30,
   "metadata": {},
   "outputs": [
    {
     "data": {
      "text/plain": [
       "[['浅白', '硬挺', '清脆', '模糊', '平坦', '硬滑', 0.245, 0.057, '坏瓜'],\n",
       " ['浅白', '蜷缩', '浊响', '模糊', '平坦', '软粘', 0.343, 0.099, '坏瓜'],\n",
       " ['青绿', '蜷缩', '浊响', '清晰', '凹陷', '硬滑', 0.697, 0.46, '好瓜']]"
      ]
     },
     "execution_count": 30,
     "metadata": {},
     "output_type": "execute_result"
    }
   ],
   "source": [
    "TestdataSet"
   ]
  },
  {
   "cell_type": "code",
   "execution_count": null,
   "metadata": {},
   "outputs": [],
   "source": []
  }
 ],
 "metadata": {
  "kernelspec": {
   "display_name": "Python 3",
   "language": "python",
   "name": "python3"
  },
  "language_info": {
   "codemirror_mode": {
    "name": "ipython",
    "version": 3
   },
   "file_extension": ".py",
   "mimetype": "text/x-python",
   "name": "python",
   "nbconvert_exporter": "python",
   "pygments_lexer": "ipython3",
   "version": "3.7.4"
  }
 },
 "nbformat": 4,
 "nbformat_minor": 2
}
