{
 "cells": [
  {
   "cell_type": "code",
   "execution_count": 1,
   "metadata": {},
   "outputs": [],
   "source": [
    "import pandas as pd\n",
    "import numpy as np"
   ]
  },
  {
   "cell_type": "code",
   "execution_count": 2,
   "metadata": {},
   "outputs": [],
   "source": [
    "data = pd.read_csv('D:/学习/集思项目/final project/train.csv')\n",
    "X = pd.read_csv(r'D:/学习/集思项目/final project/tfidf2.csv',header = None)"
   ]
  },
  {
   "cell_type": "code",
   "execution_count": 3,
   "metadata": {},
   "outputs": [
    {
     "data": {
      "text/html": [
       "<div>\n",
       "<style scoped>\n",
       "    .dataframe tbody tr th:only-of-type {\n",
       "        vertical-align: middle;\n",
       "    }\n",
       "\n",
       "    .dataframe tbody tr th {\n",
       "        vertical-align: top;\n",
       "    }\n",
       "\n",
       "    .dataframe thead th {\n",
       "        text-align: right;\n",
       "    }\n",
       "</style>\n",
       "<table border=\"1\" class=\"dataframe\">\n",
       "  <thead>\n",
       "    <tr style=\"text-align: right;\">\n",
       "      <th></th>\n",
       "      <th>0</th>\n",
       "      <th>1</th>\n",
       "      <th>2</th>\n",
       "      <th>3</th>\n",
       "      <th>4</th>\n",
       "      <th>5</th>\n",
       "      <th>6</th>\n",
       "      <th>7</th>\n",
       "      <th>8</th>\n",
       "      <th>9</th>\n",
       "      <th>...</th>\n",
       "      <th>34634</th>\n",
       "      <th>34635</th>\n",
       "      <th>34636</th>\n",
       "      <th>34637</th>\n",
       "      <th>34638</th>\n",
       "      <th>34639</th>\n",
       "      <th>34640</th>\n",
       "      <th>34641</th>\n",
       "      <th>34642</th>\n",
       "      <th>34643</th>\n",
       "    </tr>\n",
       "  </thead>\n",
       "  <tbody>\n",
       "    <tr>\n",
       "      <td>0</td>\n",
       "      <td>4.482953</td>\n",
       "      <td>30.570149</td>\n",
       "      <td>18.022587</td>\n",
       "      <td>6.971426</td>\n",
       "      <td>5.800844</td>\n",
       "      <td>8.37292</td>\n",
       "      <td>4.12232</td>\n",
       "      <td>2.206366</td>\n",
       "      <td>12.935958</td>\n",
       "      <td>2.680922</td>\n",
       "      <td>...</td>\n",
       "      <td>0.0</td>\n",
       "      <td>0.0</td>\n",
       "      <td>0.0</td>\n",
       "      <td>0.0</td>\n",
       "      <td>0.0</td>\n",
       "      <td>0.0</td>\n",
       "      <td>0.0</td>\n",
       "      <td>0.0</td>\n",
       "      <td>0.0</td>\n",
       "      <td>0.0</td>\n",
       "    </tr>\n",
       "    <tr>\n",
       "      <td>1</td>\n",
       "      <td>0.000000</td>\n",
       "      <td>0.000000</td>\n",
       "      <td>0.000000</td>\n",
       "      <td>0.000000</td>\n",
       "      <td>0.000000</td>\n",
       "      <td>0.00000</td>\n",
       "      <td>0.00000</td>\n",
       "      <td>0.000000</td>\n",
       "      <td>0.000000</td>\n",
       "      <td>0.000000</td>\n",
       "      <td>...</td>\n",
       "      <td>0.0</td>\n",
       "      <td>0.0</td>\n",
       "      <td>0.0</td>\n",
       "      <td>0.0</td>\n",
       "      <td>0.0</td>\n",
       "      <td>0.0</td>\n",
       "      <td>0.0</td>\n",
       "      <td>0.0</td>\n",
       "      <td>0.0</td>\n",
       "      <td>0.0</td>\n",
       "    </tr>\n",
       "    <tr>\n",
       "      <td>2</td>\n",
       "      <td>0.000000</td>\n",
       "      <td>0.000000</td>\n",
       "      <td>0.000000</td>\n",
       "      <td>0.000000</td>\n",
       "      <td>0.000000</td>\n",
       "      <td>0.00000</td>\n",
       "      <td>0.00000</td>\n",
       "      <td>2.206366</td>\n",
       "      <td>0.000000</td>\n",
       "      <td>0.000000</td>\n",
       "      <td>...</td>\n",
       "      <td>0.0</td>\n",
       "      <td>0.0</td>\n",
       "      <td>0.0</td>\n",
       "      <td>0.0</td>\n",
       "      <td>0.0</td>\n",
       "      <td>0.0</td>\n",
       "      <td>0.0</td>\n",
       "      <td>0.0</td>\n",
       "      <td>0.0</td>\n",
       "      <td>0.0</td>\n",
       "    </tr>\n",
       "    <tr>\n",
       "      <td>3</td>\n",
       "      <td>0.000000</td>\n",
       "      <td>0.000000</td>\n",
       "      <td>0.000000</td>\n",
       "      <td>0.000000</td>\n",
       "      <td>0.000000</td>\n",
       "      <td>0.00000</td>\n",
       "      <td>0.00000</td>\n",
       "      <td>0.000000</td>\n",
       "      <td>0.000000</td>\n",
       "      <td>0.000000</td>\n",
       "      <td>...</td>\n",
       "      <td>0.0</td>\n",
       "      <td>0.0</td>\n",
       "      <td>0.0</td>\n",
       "      <td>0.0</td>\n",
       "      <td>0.0</td>\n",
       "      <td>0.0</td>\n",
       "      <td>0.0</td>\n",
       "      <td>0.0</td>\n",
       "      <td>0.0</td>\n",
       "      <td>0.0</td>\n",
       "    </tr>\n",
       "    <tr>\n",
       "      <td>4</td>\n",
       "      <td>0.000000</td>\n",
       "      <td>0.000000</td>\n",
       "      <td>0.000000</td>\n",
       "      <td>0.000000</td>\n",
       "      <td>0.000000</td>\n",
       "      <td>0.00000</td>\n",
       "      <td>0.00000</td>\n",
       "      <td>0.000000</td>\n",
       "      <td>0.000000</td>\n",
       "      <td>0.000000</td>\n",
       "      <td>...</td>\n",
       "      <td>0.0</td>\n",
       "      <td>0.0</td>\n",
       "      <td>0.0</td>\n",
       "      <td>0.0</td>\n",
       "      <td>0.0</td>\n",
       "      <td>0.0</td>\n",
       "      <td>0.0</td>\n",
       "      <td>0.0</td>\n",
       "      <td>0.0</td>\n",
       "      <td>0.0</td>\n",
       "    </tr>\n",
       "  </tbody>\n",
       "</table>\n",
       "<p>5 rows × 34644 columns</p>\n",
       "</div>"
      ],
      "text/plain": [
       "      0          1          2         3         4        5        6      \\\n",
       "0  4.482953  30.570149  18.022587  6.971426  5.800844  8.37292  4.12232   \n",
       "1  0.000000   0.000000   0.000000  0.000000  0.000000  0.00000  0.00000   \n",
       "2  0.000000   0.000000   0.000000  0.000000  0.000000  0.00000  0.00000   \n",
       "3  0.000000   0.000000   0.000000  0.000000  0.000000  0.00000  0.00000   \n",
       "4  0.000000   0.000000   0.000000  0.000000  0.000000  0.00000  0.00000   \n",
       "\n",
       "      7          8         9      ...  34634  34635  34636  34637  34638  \\\n",
       "0  2.206366  12.935958  2.680922  ...    0.0    0.0    0.0    0.0    0.0   \n",
       "1  0.000000   0.000000  0.000000  ...    0.0    0.0    0.0    0.0    0.0   \n",
       "2  2.206366   0.000000  0.000000  ...    0.0    0.0    0.0    0.0    0.0   \n",
       "3  0.000000   0.000000  0.000000  ...    0.0    0.0    0.0    0.0    0.0   \n",
       "4  0.000000   0.000000  0.000000  ...    0.0    0.0    0.0    0.0    0.0   \n",
       "\n",
       "   34639  34640  34641  34642  34643  \n",
       "0    0.0    0.0    0.0    0.0    0.0  \n",
       "1    0.0    0.0    0.0    0.0    0.0  \n",
       "2    0.0    0.0    0.0    0.0    0.0  \n",
       "3    0.0    0.0    0.0    0.0    0.0  \n",
       "4    0.0    0.0    0.0    0.0    0.0  \n",
       "\n",
       "[5 rows x 34644 columns]"
      ]
     },
     "execution_count": 3,
     "metadata": {},
     "output_type": "execute_result"
    }
   ],
   "source": [
    "X.head()"
   ]
  },
  {
   "cell_type": "code",
   "execution_count": 4,
   "metadata": {},
   "outputs": [],
   "source": [
    "X = np.array(X)\n",
    "Y = data[['Computer Science','Physics','Mathematics','Statistics','Quantitative Biology','Quantitative Finance']]\n",
    "Y = Y.head(10000)\n",
    "Y = np.array(Y)"
   ]
  },
  {
   "cell_type": "code",
   "execution_count": 5,
   "metadata": {},
   "outputs": [],
   "source": [
    "from sklearn.model_selection import train_test_split\n",
    "\n",
    "X_train, X_test, y_train, y_test = train_test_split(X, Y, test_size = 0.2, random_state = 42)"
   ]
  },
  {
   "cell_type": "code",
   "execution_count": 6,
   "metadata": {},
   "outputs": [],
   "source": [
    "X_sum = np.row_stack((X_train, X_test))\n",
    "Y_sum = np.row_stack((y_train, y_test))"
   ]
  },
  {
   "cell_type": "code",
   "execution_count": 7,
   "metadata": {},
   "outputs": [],
   "source": [
    "from sklearn.metrics.pairwise import cosine_similarity\n",
    "from scipy import sparse\n",
    "\n",
    "X_sparse = sparse.csr_matrix(X_sum)"
   ]
  },
  {
   "cell_type": "code",
   "execution_count": 8,
   "metadata": {},
   "outputs": [
    {
     "data": {
      "text/plain": [
       "<10000x34644 sparse matrix of type '<class 'numpy.float64'>'\n",
       "\twith 686140 stored elements in Compressed Sparse Row format>"
      ]
     },
     "execution_count": 8,
     "metadata": {},
     "output_type": "execute_result"
    }
   ],
   "source": [
    "X_sparse"
   ]
  },
  {
   "cell_type": "code",
   "execution_count": 9,
   "metadata": {},
   "outputs": [],
   "source": [
    "from sklearn.metrics import euclidean_distances\n",
    "\n",
    "distances = euclidean_distances(X_sparse)"
   ]
  },
  {
   "cell_type": "code",
   "execution_count": 10,
   "metadata": {},
   "outputs": [
    {
     "data": {
      "text/plain": [
       "array([[  0.        , 118.28116224,  89.70190316, ...,  79.14574848,\n",
       "         66.0517382 ,  70.27834862],\n",
       "       [118.28116224,   0.        , 131.3222554 , ..., 124.1908234 ,\n",
       "        116.25232633, 119.79177313],\n",
       "       [ 89.70190316, 131.3222554 ,   0.        , ...,  97.18367799,\n",
       "         86.63758216,  91.55305921],\n",
       "       ...,\n",
       "       [ 79.14574848, 124.1908234 ,  97.18367799, ...,   0.        ,\n",
       "         75.53571337,  81.12923209],\n",
       "       [ 66.0517382 , 116.25232633,  86.63758216, ...,  75.53571337,\n",
       "          0.        ,  68.08359305],\n",
       "       [ 70.27834862, 119.79177313,  91.55305921, ...,  81.12923209,\n",
       "         68.08359305,   0.        ]])"
      ]
     },
     "execution_count": 10,
     "metadata": {},
     "output_type": "execute_result"
    }
   ],
   "source": [
    "distances"
   ]
  },
  {
   "cell_type": "code",
   "execution_count": 11,
   "metadata": {},
   "outputs": [],
   "source": [
    "def fit_ML_KNN(k, X, Y, distances):\n",
    "    \n",
    "    s = 1\n",
    "    m = len(X)\n",
    "    P1 = np.zeros((6,))\n",
    "    Pe1 = np.zeros((6, k + 1))\n",
    "    P0 = np.zeros((6,))\n",
    "    Pe0 = np.zeros((6, k + 1))\n",
    "    ind = np.argsort(distances)\n",
    "    \n",
    "    for i in range(6):\n",
    "        y = 0\n",
    "        for j in range(m):\n",
    "            if Y[j][i] == 1:\n",
    "                y = y + 1\n",
    "        P1[i] = (s + y) / (s * 2 + m)\n",
    "        P0[i] = 1 - P1[i]\n",
    "    \n",
    "    for i in range(6):\n",
    "        c1 = np.zeros(k + 1)\n",
    "        c0 = np.zeros(k + 1)\n",
    "        for j in range(m):\n",
    "            temp = 0\n",
    "            for kk in range(1,k + 1):\n",
    "                if Y[ind[j][kk]][i] == 1:\n",
    "                    temp = temp + 1\n",
    "            if Y[j][i] == 1:\n",
    "                c1[temp] = c1[temp] + 1\n",
    "            else:\n",
    "                c0[temp] = c0[temp] + 1\n",
    "        \n",
    "        for l in range(k + 1):\n",
    "            Pe1[i][l] = (s + c1[l]) / (s * (k + 1) + c1.sum())\n",
    "            Pe0[i][l] = (s + c0[l]) / (s * (k + 1) + c0.sum())\n",
    "            \n",
    "    return P1, P0, Pe1, Pe0"
   ]
  },
  {
   "cell_type": "code",
   "execution_count": 12,
   "metadata": {},
   "outputs": [],
   "source": [
    "def predict_IML_KNN(k, P1, P0, Pe1, Pe0, test_Data, Y, distances):\n",
    "    \n",
    "    rtl = np.zeros((test_Data.shape[0], 6))\n",
    "    m = test_Data.shape[0]\n",
    "    predict_labels = np.zeros((m, 6))\n",
    "    ind = np.argsort(distances)\n",
    "    \n",
    "    for i in range(m):\n",
    "        \n",
    "        f = 1\n",
    "        while ind[i + 8000][f] >= 8000:\n",
    "            f = f + 1\n",
    "        N = np.zeros(6)\n",
    "        for j in range(6):\n",
    "            if Y[ind[i + 8000][f]][j] == 1:\n",
    "                N[j] = N[j] + 1\n",
    "        \n",
    "        for j in range(6):\n",
    "            temp = 0\n",
    "            y1 = 0\n",
    "            y0 = 0\n",
    "            f = 1\n",
    "            count = 0\n",
    "            while count < k:\n",
    "                if ind[i + 8000][f] >= 8000:\n",
    "                    f = f + 1\n",
    "                    continue\n",
    "                else:\n",
    "                    count = count + 1\n",
    "                    if Y[ind[i + 8000][f]][j] == 1:\n",
    "                        temp = temp + 1\n",
    "                    f = f + 1\n",
    "            if k != 1:\n",
    "                y1 = P1[j] * Pe1[j][temp] * k / (k-1) + 1 / (k-1) * N[j]\n",
    "                y0 = P0[j] * Pe0[j][temp] * k / (k-1) + 1 / (k-1) * (1 - N[j])\n",
    "            else:\n",
    "                y1 = P1[j] * Pe1[j][temp]\n",
    "                y0 = P0[j] * Pe0[j][temp]\n",
    "            #rtl[i][j] = P1[j] * Pe1[j][temp] / (P1[j] * Pe1[j][temp] + P0[j] * Pe0[j][temp])\n",
    "            rtl[i][j] = y1 / (y1 + y0)\n",
    "            if y1 > y0:\n",
    "                predict_labels[i][j] = 1\n",
    "            else:\n",
    "                predict_labels[i][j] = 0\n",
    "    \n",
    "    return predict_labels, rtl"
   ]
  },
  {
   "cell_type": "code",
   "execution_count": 13,
   "metadata": {},
   "outputs": [],
   "source": [
    "def predict_ML_KNN(k, P1, P0, Pe1, Pe0, test_Data, Y, distances):\n",
    "    \n",
    "    rtl = np.zeros((test_Data.shape[0], 6))\n",
    "    m = test_Data.shape[0]\n",
    "    predict_labels = np.zeros((m, 6))\n",
    "    ind = np.argsort(distances)\n",
    "    \n",
    "    for i in range(m):\n",
    "        for j in range(6):\n",
    "            temp = 0\n",
    "            y1 = 0\n",
    "            y0 = 0\n",
    "            f = 1\n",
    "            count = 0\n",
    "            while count < k:\n",
    "                if ind[i + 8000][f] >= 8000:\n",
    "                    f = f + 1\n",
    "                    continue\n",
    "                else:\n",
    "                    count = count + 1\n",
    "                    if Y[ind[i + 8000][f]][j] == 1:\n",
    "                        temp = temp + 1\n",
    "                    f = f + 1\n",
    "            y1 = P1[j] * Pe1[j][temp]\n",
    "            y0 = P0[j] * Pe0[j][temp]\n",
    "            rtl[i][j] = P1[j] * Pe1[j][temp] / (P1[j] * Pe1[j][temp] + P0[j] * Pe0[j][temp])\n",
    "            if y1 > y0:\n",
    "                predict_labels[i][j] = 1\n",
    "            else:\n",
    "                predict_labels[i][j] = 0\n",
    "    \n",
    "    return predict_labels, rtl"
   ]
  },
  {
   "cell_type": "code",
   "execution_count": 14,
   "metadata": {},
   "outputs": [],
   "source": [
    "def hloss(predict_label, true_label):\n",
    "  #预测集行数等于验证集大小，预测集列数等于验证集label大小\n",
    "    data_num = predict_label.shape[0]\n",
    "    label_num = predict_label.shape[1]\n",
    "    hloss = 0\n",
    "    for i in range(data_num):\n",
    "        bias = 0\n",
    "        for j in range(label_num):\n",
    "            if predict_label[i,j] != true_label[i,j]:\n",
    "                bias += 1\n",
    "        hloss += bias/label_num\n",
    "    hloss = hloss/data_num\n",
    "    return hloss\n",
    "\n",
    "\n",
    "\n",
    "def one_error(predict_rt, true_label): \n",
    "    \n",
    "    data_num = predict_rt.shape[0]\n",
    "    label_num = predict_rt.shape[1]\n",
    "    one_error_num = 0\n",
    "    for i in range(data_num):\n",
    "        rtl = list(predict_rt[i])\n",
    "        max_index = rtl.index(max(rtl))\n",
    "        if true_label[i,max_index] != 1:\n",
    "            one_error_num += 1\n",
    "    \n",
    "    return one_error_num/data_num\n",
    "\n",
    "def sort_both(list_rtl, list_target):\n",
    "    for j in range(len(list_rtl)-1):\n",
    "        for k in range(j,len(list_rtl)):\n",
    "            if list_rtl[j] <= list_rtl[k]:\n",
    "                temp1 =list_rtl[j]\n",
    "                temp2 =list_target[j]\n",
    "                list_rtl[j] = list_rtl[k]\n",
    "                list_target[j] = list_target[k]\n",
    "                list_rtl[k] = temp1 \n",
    "                list_target[k] = temp2\n",
    "    \n",
    "    return list_rtl,list_target\n",
    "\n",
    "def coverage(predict_rt, true_label):\n",
    "    data_num = predict_rt.shape[0]\n",
    "    label_num = predict_rt.shape[1]\n",
    "    coverage1 = 0\n",
    "    for i in range(data_num):\n",
    "        max_rank = 0\n",
    "        rtl = list(predict_rt[i])\n",
    "        target = list(true_label[i])\n",
    "        rtl, target = sort_both(rtl,target)\n",
    "\n",
    "        for j in range(len(rtl)):\n",
    "            if target[j] == 1:\n",
    "                max_rank = j+1\n",
    "        coverage1 += max_rank\n",
    "    \n",
    "    return (coverage1/data_num-1)\n",
    "\n",
    "\n",
    "def rloss(predict_rt, true_label):\n",
    "    #import pdb; pdb.set_trace()\n",
    "\n",
    "    data_num = predict_rt.shape[0]\n",
    "    label_num = predict_rt.shape[1]\n",
    "    r_loss = 0\n",
    "    for i in range(data_num):\n",
    "        index_1 = []\n",
    "        index_0 = []\n",
    "        rank_loss = 0\n",
    "        rtl = list(predict_rt[i])\n",
    "        target = list(true_label[i])\n",
    "        rtl, target = sort_both(rtl,target)\n",
    "        for j in range(label_num):\n",
    "            if target[j] == 1:\n",
    "                index_1.append(j)\n",
    "            else:\n",
    "                index_0.append(j)\n",
    "      \n",
    "        m = len(index_1)\n",
    "        n = len(index_0)\n",
    "        for j in range(m):\n",
    "            for k in range(n):\n",
    "                if index_0[k] <= index_1[j]:\n",
    "                    rank_loss += 1\n",
    "      \n",
    "        r_loss += rank_loss/(m*n)\n",
    "    return r_loss/data_num\n",
    "  \n",
    "\n",
    "def avgprec(predict_rt, true_label):\n",
    "\n",
    "    data_num = predict_rt.shape[0]\n",
    "    label_num = predict_rt.shape[1]\n",
    "    avg_prec = 0\n",
    "    for i in range(data_num):\n",
    "        index_1 = []\n",
    "        temp_prec = 0\n",
    "        rtl = list(predict_rt[i])\n",
    "        target = list(true_label[i])\n",
    "        rtl, target = sort_both(rtl,target)\n",
    "        for j in range(label_num):\n",
    "            if target[j] == 1:\n",
    "                index_1.append(j)\n",
    "        for k in range(len(index_1)):\n",
    "            temp_prec += (k+1)/(index_1[k]+1)\n",
    "      \n",
    "        avg_prec += temp_prec/len(index_1)\n",
    "    \n",
    "    return avg_prec/data_num"
   ]
  },
  {
   "cell_type": "code",
   "execution_count": 15,
   "metadata": {
    "scrolled": false
   },
   "outputs": [
    {
     "name": "stdout",
     "output_type": "stream",
     "text": [
      "k =  0\n",
      "Hamming Loss is 0.20583333333333587\n",
      "One Error is 0.6\n",
      "Coverage is 1.5394999999999999\n",
      "Ranking Loss is 0.24941805555555305\n",
      "Average Precision is 0.6103527777777791\n",
      "\n",
      "\n",
      "k =  1\n",
      "Hamming Loss is 0.2366666666666678\n",
      "One Error is 0.6505\n",
      "Coverage is 1.6745\n",
      "Ranking Loss is 0.2769222222222198\n",
      "Average Precision is 0.5764333333333349\n",
      "\n",
      "\n",
      "k =  2\n",
      "Hamming Loss is 0.24458333333333393\n",
      "One Error is 0.6585\n",
      "Coverage is 1.709\n",
      "Ranking Loss is 0.2878958333333316\n",
      "Average Precision is 0.5719277777777797\n",
      "\n",
      "\n",
      "k =  3\n",
      "Hamming Loss is 0.2419166666666675\n",
      "One Error is 0.6505\n",
      "Coverage is 1.7065000000000001\n",
      "Ranking Loss is 0.28797500000000015\n",
      "Average Precision is 0.576172222222224\n",
      "\n",
      "\n",
      "k =  4\n",
      "Hamming Loss is 0.23008333333333503\n",
      "One Error is 0.642\n",
      "Coverage is 1.666\n",
      "Ranking Loss is 0.27553749999999766\n",
      "Average Precision is 0.5820875000000013\n",
      "\n",
      "\n",
      "k =  5\n",
      "Hamming Loss is 0.23158333333333492\n",
      "One Error is 0.649\n",
      "Coverage is 1.6635\n",
      "Ranking Loss is 0.2753888888888863\n",
      "Average Precision is 0.5798083333333355\n",
      "\n",
      "\n",
      "k =  6\n",
      "Hamming Loss is 0.23550000000000137\n",
      "One Error is 0.694\n",
      "Coverage is 1.7065000000000001\n",
      "Ranking Loss is 0.2866944444444422\n",
      "Average Precision is 0.5604986111111134\n",
      "\n",
      "\n",
      "k =  7\n",
      "Hamming Loss is 0.23925000000000116\n",
      "One Error is 0.6905\n",
      "Coverage is 1.713\n",
      "Ranking Loss is 0.2888722222222205\n",
      "Average Precision is 0.5610930555555584\n",
      "\n",
      "\n",
      "k =  8\n",
      "Hamming Loss is 0.23450000000000154\n",
      "One Error is 0.676\n",
      "Coverage is 1.682\n",
      "Ranking Loss is 0.2834402777777764\n",
      "Average Precision is 0.5703722222222245\n",
      "\n",
      "\n",
      "k =  9\n",
      "Hamming Loss is 0.22850000000000154\n",
      "One Error is 0.677\n",
      "Coverage is 1.682\n",
      "Ranking Loss is 0.28469722222222144\n",
      "Average Precision is 0.5699875000000021\n",
      "\n",
      "\n",
      "k =  10\n",
      "Hamming Loss is 0.23341666666666805\n",
      "One Error is 0.676\n",
      "Coverage is 1.6915\n",
      "Ranking Loss is 0.2864111111111108\n",
      "Average Precision is 0.5691208333333356\n",
      "\n",
      "\n",
      "k =  11\n",
      "Hamming Loss is 0.2273333333333352\n",
      "One Error is 0.6725\n",
      "Coverage is 1.6735000000000002\n",
      "Ranking Loss is 0.28003611111110915\n",
      "Average Precision is 0.5715236111111136\n",
      "\n",
      "\n",
      "k =  12\n",
      "Hamming Loss is 0.23241666666666827\n",
      "One Error is 0.6735\n",
      "Coverage is 1.6905000000000001\n",
      "Ranking Loss is 0.28269444444444264\n",
      "Average Precision is 0.5687208333333358\n",
      "\n",
      "\n",
      "k =  13\n",
      "Hamming Loss is 0.25141666666666695\n",
      "One Error is 0.6725\n",
      "Coverage is 1.709\n",
      "Ranking Loss is 0.28668611111110953\n",
      "Average Precision is 0.5659694444444471\n",
      "\n",
      "\n",
      "k =  14\n",
      "Hamming Loss is 0.24366666666666773\n",
      "One Error is 0.6645\n",
      "Coverage is 1.6945000000000001\n",
      "Ranking Loss is 0.28440555555555375\n",
      "Average Precision is 0.5708166666666691\n",
      "\n",
      "\n",
      "k =  15\n",
      "Hamming Loss is 0.23216666666666813\n",
      "One Error is 0.6715\n",
      "Coverage is 1.7115\n",
      "Ranking Loss is 0.2884555555555541\n",
      "Average Precision is 0.566387500000002\n",
      "\n",
      "\n",
      "k =  16\n",
      "Hamming Loss is 0.234166666666668\n",
      "One Error is 0.692\n",
      "Coverage is 1.7305000000000001\n",
      "Ranking Loss is 0.2937652777777769\n",
      "Average Precision is 0.5576125000000026\n",
      "\n",
      "\n",
      "k =  17\n",
      "Hamming Loss is 0.2507499999999999\n",
      "One Error is 0.683\n",
      "Coverage is 1.7240000000000002\n",
      "Ranking Loss is 0.293065277777777\n",
      "Average Precision is 0.5615833333333359\n",
      "\n",
      "\n",
      "k =  18\n",
      "Hamming Loss is 0.24958333333333343\n",
      "One Error is 0.6775\n",
      "Coverage is 1.722\n",
      "Ranking Loss is 0.29294166666666593\n",
      "Average Precision is 0.5636000000000028\n",
      "\n",
      "\n",
      "k =  19\n",
      "Hamming Loss is 0.24091666666666695\n",
      "One Error is 0.6735\n",
      "Coverage is 1.709\n",
      "Ranking Loss is 0.2916305555555551\n",
      "Average Precision is 0.5677333333333355\n",
      "\n",
      "\n"
     ]
    }
   ],
   "source": [
    "X_train_sparse = sparse.csr_matrix(X_train)\n",
    "X_train_euclidean_distances = euclidean_distances(X_train_sparse)\n",
    "true_labels = Y[8000:][:]\n",
    "kk = 20\n",
    "Hamming_Loss = np.zeros(kk)\n",
    "One_Error = np.zeros(kk)\n",
    "Coverage = np.zeros(kk)\n",
    "Ranking_Loss = np.zeros(kk)\n",
    "Average_Precision = np.zeros(kk)\n",
    "\n",
    "for k in range(kk):\n",
    "    P1, P0, Pe1, Pe0 = fit_ML_KNN(k, X_train, y_train, X_train_euclidean_distances)\n",
    "    predict_labels, predict_rtl = predict_ML_KNN(k, P1, P0, Pe1, Pe0, X_test, Y_sum, distances)\n",
    "    Hamming_Loss[k] = hloss(predict_labels, true_labels)\n",
    "    One_Error[k] = one_error(predict_rtl, true_labels)\n",
    "    Coverage[k] = coverage(predict_rtl, true_labels)\n",
    "    Ranking_Loss[k] = rloss(predict_rtl, true_labels)\n",
    "    Average_Precision[k] = avgprec(predict_rtl, true_labels)\n",
    "    print('k = ',k)\n",
    "    print('Hamming Loss is',Hamming_Loss[k])\n",
    "    print('One Error is',One_Error[k])\n",
    "    print('Coverage is',Coverage[k])\n",
    "    print('Ranking Loss is',Ranking_Loss[k])\n",
    "    print('Average Precision is',Average_Precision[k])\n",
    "    print('\\n')"
   ]
  },
  {
   "cell_type": "code",
   "execution_count": 16,
   "metadata": {},
   "outputs": [],
   "source": [
    "import seaborn as sns\n",
    "import matplotlib.pyplot as plt\n",
    "\n",
    "date_palatte = [(0.20651240887022015, 0.3755393698154809, 0.5856904756194529),\n",
    " (0.3720866446574984, 0.6378633419526029, 0.5550368905837924),\n",
    " (0.15908978777909805, 0.2627191708800849, 0.2704304083743111),\n",
    " (0.18673086084284554, 0.40157226483269637, 0.4175589767109701)]\n",
    "\n",
    "data = pd.DataFrame(columns = ['Hamming Loss','One Error','Coverage','Ranking Loss','Average Precision'])\n",
    "data['Hamming Loss'] = Hamming_Loss\n",
    "data['One Error'] = One_Error\n",
    "data['Coverage'] = Coverage\n",
    "data['Ranking Loss'] = Ranking_Loss\n",
    "data['Average Precision'] = Average_Precision\n",
    "data.to_excel('D://ED.xlsx')"
   ]
  },
  {
   "cell_type": "code",
   "execution_count": 52,
   "metadata": {},
   "outputs": [
    {
     "data": {
      "text/plain": [
       "array([0.20583333, 0.23666667, 0.24458333, 0.24191667, 0.23008333,\n",
       "       0.23158333, 0.2355    , 0.23925   , 0.2345    , 0.2285    ,\n",
       "       0.23341667, 0.22733333, 0.23241667, 0.25141667, 0.24366667,\n",
       "       0.23216667, 0.23416667, 0.25075   , 0.24958333, 0.24091667])"
      ]
     },
     "execution_count": 52,
     "metadata": {},
     "output_type": "execute_result"
    }
   ],
   "source": [
    "Hamming_Loss"
   ]
  },
  {
   "cell_type": "code",
   "execution_count": 53,
   "metadata": {},
   "outputs": [
    {
     "data": {
      "text/plain": [
       "array([0.6   , 0.6505, 0.6585, 0.6505, 0.642 , 0.649 , 0.694 , 0.6905,\n",
       "       0.676 , 0.677 , 0.676 , 0.6725, 0.6735, 0.6725, 0.6645, 0.6715,\n",
       "       0.692 , 0.683 , 0.6775, 0.6735])"
      ]
     },
     "execution_count": 53,
     "metadata": {},
     "output_type": "execute_result"
    }
   ],
   "source": [
    "One_Error"
   ]
  },
  {
   "cell_type": "code",
   "execution_count": 54,
   "metadata": {},
   "outputs": [
    {
     "data": {
      "text/plain": [
       "array([0.24941806, 0.27692222, 0.28789583, 0.287975  , 0.2755375 ,\n",
       "       0.27538889, 0.28669444, 0.28887222, 0.28344028, 0.28469722,\n",
       "       0.28641111, 0.28003611, 0.28269444, 0.28668611, 0.28440556,\n",
       "       0.28845556, 0.29376528, 0.29306528, 0.29294167, 0.29163056])"
      ]
     },
     "execution_count": 54,
     "metadata": {},
     "output_type": "execute_result"
    }
   ],
   "source": [
    "Ranking_Loss"
   ]
  },
  {
   "cell_type": "code",
   "execution_count": 55,
   "metadata": {},
   "outputs": [
    {
     "data": {
      "text/plain": [
       "array([1.5395, 1.6745, 1.709 , 1.7065, 1.666 , 1.6635, 1.7065, 1.713 ,\n",
       "       1.682 , 1.682 , 1.6915, 1.6735, 1.6905, 1.709 , 1.6945, 1.7115,\n",
       "       1.7305, 1.724 , 1.722 , 1.709 ])"
      ]
     },
     "execution_count": 55,
     "metadata": {},
     "output_type": "execute_result"
    }
   ],
   "source": [
    "Coverage"
   ]
  },
  {
   "cell_type": "code",
   "execution_count": 56,
   "metadata": {},
   "outputs": [
    {
     "data": {
      "text/plain": [
       "array([0.61035278, 0.57643333, 0.57192778, 0.57617222, 0.5820875 ,\n",
       "       0.57980833, 0.56049861, 0.56109306, 0.57037222, 0.5699875 ,\n",
       "       0.56912083, 0.57152361, 0.56872083, 0.56596944, 0.57081667,\n",
       "       0.5663875 , 0.5576125 , 0.56158333, 0.5636    , 0.56773333])"
      ]
     },
     "execution_count": 56,
     "metadata": {},
     "output_type": "execute_result"
    }
   ],
   "source": [
    "Average_Precision"
   ]
  },
  {
   "cell_type": "code",
   "execution_count": 17,
   "metadata": {},
   "outputs": [
    {
     "data": {
      "text/plain": [
       "[<matplotlib.lines.Line2D at 0x19fc0686a08>]"
      ]
     },
     "execution_count": 17,
     "metadata": {},
     "output_type": "execute_result"
    }
   ],
   "source": [
    "import matplotlib.pyplot as plt\n",
    "\n",
    "X = np.arange(kk)\n",
    "plt.plot(X, Hamming_Loss)\n",
    "plt.plot(X, One_Error)\n",
    "plt.plot(X, Coverage)\n",
    "plt.plot(X, Ranking_Loss)\n",
    "plt.plot(X, Average_Precision)"
   ]
  },
  {
   "cell_type": "code",
   "execution_count": 18,
   "metadata": {},
   "outputs": [],
   "source": [
    "from sklearn.model_selection import train_test_split\n",
    "from sklearn.tree import DecisionTreeClassifier\n",
    "from sklearn.tree import ExtraTreeClassifier\n",
    "from sklearn.neighbors import KNeighborsClassifier\n",
    "from sklearn.neighbors import RadiusNeighborsClassifier\n",
    "from sklearn.linear_model import RidgeClassifierCV"
   ]
  },
  {
   "cell_type": "code",
   "execution_count": 19,
   "metadata": {},
   "outputs": [
    {
     "data": {
      "text/plain": [
       "RidgeClassifierCV(alphas=array([ 0.1,  1. , 10. ]), class_weight=None, cv=None,\n",
       "                  fit_intercept=True, normalize=False, scoring=None,\n",
       "                  store_cv_values=False)"
      ]
     },
     "execution_count": 19,
     "metadata": {},
     "output_type": "execute_result"
    }
   ],
   "source": [
    "DTcls = DecisionTreeClassifier()\n",
    "DTcls.fit(X_train, y_train)\n",
    "\n",
    "ETcls = ExtraTreeClassifier()\n",
    "ETcls.fit(X_train, y_train)\n",
    "\n",
    "KNcls = KNeighborsClassifier()\n",
    "KNcls.fit(X_train, y_train)\n",
    "\n",
    "RNcls = RadiusNeighborsClassifier()\n",
    "RNcls.fit(X_train, y_train)\n",
    "\n",
    "RCls = RidgeClassifierCV()\n",
    "RCls.fit(X_train, y_train)"
   ]
  },
  {
   "cell_type": "code",
   "execution_count": 20,
   "metadata": {},
   "outputs": [],
   "source": [
    "from sklearn import metrics\n",
    "\n",
    "Y_pred_DT = DTcls.predict(X_test)\n",
    "Y_pred_ET = ETcls.predict(X_test)\n",
    "Y_pred_KN = KNcls.predict(X_test)\n",
    "Y_pred_R = RCls.predict(X_test)"
   ]
  },
  {
   "cell_type": "code",
   "execution_count": 21,
   "metadata": {},
   "outputs": [
    {
     "name": "stdout",
     "output_type": "stream",
     "text": [
      "Using ML-KNN, Hamming Loss is 0.23808333333333495\n",
      "Using DecisionTreeClassifier, Hamming Loss is 0.27933333333333155\n",
      "Using ExtraTreeClassifier, Hamming Loss is 0.2861666666666658\n",
      "Using KNeighborsClassifier, Hamming Loss is 0.2817499999999982\n"
     ]
    }
   ],
   "source": [
    "Hloss_DT = hloss(Y_pred_DT, true_labels)\n",
    "Hloss_ET = hloss(Y_pred_ET, true_labels)\n",
    "Hloss_KN = hloss(Y_pred_KN, true_labels)\n",
    "#Hloss_R = hloss(Y_pred_R, true_labels)\n",
    "\n",
    "print('Using ML-KNN, Hamming Loss is', Hamming_Loss[4])\n",
    "print('Using DecisionTreeClassifier, Hamming Loss is', Hloss_DT)\n",
    "print('Using ExtraTreeClassifier, Hamming Loss is', Hloss_ET)\n",
    "print('Using KNeighborsClassifier, Hamming Loss is', Hloss_KN)\n",
    "#print('Using RidgeClassifierCV, Hamming Loss is', Hloss_R)"
   ]
  },
  {
   "cell_type": "code",
   "execution_count": 22,
   "metadata": {},
   "outputs": [],
   "source": [
    "rtl_pred_DT = DTcls.predict_proba(X_test)\n",
    "rtl_pred_ET = ETcls.predict_proba(X_test)\n",
    "rtl_pred_KN = KNcls.predict_proba(X_test)"
   ]
  },
  {
   "cell_type": "code",
   "execution_count": 45,
   "metadata": {},
   "outputs": [],
   "source": [
    "def Cal(Y_pred, predict_rtl, true_labels):\n",
    "    HLoss = hloss(Y_pred, true_labels)\n",
    "    One_Error = one_error(predict_rtl, true_labels)\n",
    "    Coverage = coverage(predict_rtl, true_labels)\n",
    "    Ranking_Loss = rloss(predict_rtl, true_labels)\n",
    "    Average_Precision = avgprec(predict_rtl, true_labels)\n",
    "    print('Hamming Loss is', HLoss)\n",
    "    print('One Error is',One_Error)\n",
    "    print('Coverage is',Coverage)\n",
    "    print('Ranking Loss is',Ranking_Loss)\n",
    "    print('Average_Precision',Average_Precision)\n",
    "    print('\\n')\n",
    "    "
   ]
  },
  {
   "cell_type": "code",
   "execution_count": 46,
   "metadata": {},
   "outputs": [
    {
     "name": "stdout",
     "output_type": "stream",
     "text": [
      "2\n",
      "[[0.28534722 0.13675764 0.41727986 0.46186588 0.02305678 0.00608078]\n",
      " [0.28534722 0.30728875 0.44681264 0.13892755 0.02305678 0.00608078]\n",
      " [0.28534722 0.13675764 0.77539882 0.03366681 0.02305678 0.00608078]\n",
      " ...\n",
      " [0.45036408 0.13675764 0.44681264 0.86543804 0.02305678 0.00608078]\n",
      " [0.28534722 0.13675764 0.44681264 0.13892755 0.02305678 0.00608078]\n",
      " [0.63631434 0.13675764 0.06556749 0.86543804 0.02305678 0.00608078]]\n"
     ]
    }
   ],
   "source": [
    "print(len(rtl_pred_KN[0][1]))\n",
    "print(predict_rtl)"
   ]
  },
  {
   "cell_type": "code",
   "execution_count": 47,
   "metadata": {},
   "outputs": [],
   "source": [
    "def convert(rtl_pred):\n",
    "    rtl = np.zeros((2000,6))\n",
    "    for i in range(2000):\n",
    "        for j in range(6):\n",
    "            rtl[i,j] = rtl_pred[j][i][1]\n",
    "    return rtl"
   ]
  },
  {
   "cell_type": "code",
   "execution_count": 48,
   "metadata": {},
   "outputs": [
    {
     "name": "stdout",
     "output_type": "stream",
     "text": [
      "Decision Tree:\n",
      "Hamming Loss is 0.27933333333333155\n",
      "One Error is 0.6645\n",
      "Coverage is 3.2175000000000002\n",
      "Ranking Loss is 0.5860624999999975\n",
      "Average_Precision 0.447529166666666\n",
      "\n",
      "\n",
      "Extra Tree:\n",
      "Hamming Loss is 0.2861666666666658\n",
      "One Error is 0.6815\n",
      "Coverage is 3.2895000000000003\n",
      "Ranking Loss is 0.6020055555555532\n",
      "Average_Precision 0.43163749999999895\n",
      "\n",
      "\n",
      "KNN:\n",
      "Hamming Loss is 0.2817499999999982\n",
      "One Error is 0.7275\n",
      "Coverage is 3.0505000000000004\n",
      "Ranking Loss is 0.5417527777777754\n",
      "Average_Precision 0.4562444444444449\n",
      "\n",
      "\n"
     ]
    }
   ],
   "source": [
    "print('Decision Tree:')\n",
    "rtl1 = convert(rtl_pred_DT)\n",
    "Cal(Y_pred_DT, rtl1, true_labels)\n",
    "print('Extra Tree:')\n",
    "rtl2 = convert(rtl_pred_ET)\n",
    "Cal(Y_pred_ET, rtl2, true_labels)\n",
    "print('KNN:')\n",
    "rtl3 = convert(rtl_pred_KN)\n",
    "Cal(Y_pred_KN, rtl3, true_labels)"
   ]
  },
  {
   "cell_type": "code",
   "execution_count": 20,
   "metadata": {},
   "outputs": [
    {
     "name": "stderr",
     "output_type": "stream",
     "text": [
      "The PostScript backend does not support transparency; partially transparent artists will be rendered opaque.\n",
      "The PostScript backend does not support transparency; partially transparent artists will be rendered opaque.\n"
     ]
    },
    {
     "data": {
      "image/png": "[encoded data removed]",
      "text/plain": [
       "<Figure size 432x288 with 1 Axes>"
      ]
     },
     "metadata": {},
     "output_type": "display_data"
    }
   ],
   "source": [
    "import seaborn as sns\n",
    "import matplotlib.pyplot as plt\n",
    "\n",
    "date_palette = [(0.20651240887022015, 0.3755393698154809, 0.5856904756194529),\n",
    " (0.18673086084284554, 0.40157226483269637, 0.4175589767109701)]\n",
    "\n",
    "df_opt_comparison = pd.read_excel('D://Hamming Loss.xlsx')\n",
    "\n",
    "sns.set(style='ticks')\n",
    "sns.set_context(rc={'lines.linewidth':5})\n",
    "\n",
    "plt.xlim((3,10))\n",
    "plt.ylim((0.20,0.30))\n",
    "plt.xticks(np.arange(3, 11, 1))\n",
    "plt.yticks(np.arange(0.20,0.31,0.02))\n",
    "\n",
    "# palette = sns.diverging_palette(250, 199, l=40, n=4, center=\"dark\")\n",
    "ax = sns.lineplot(x=\"K\", y=\"Hamming Loss\", hue = 'Metric', \n",
    "                  data=df_opt_comparison, \n",
    "                  markers = False,palette = date_palette, style = 'Metric')\n",
    "plt.xlabel('Number of K', fontdict={'color': 'black',\n",
    "                             'family': 'Times New Roman','size': 18})\n",
    "plt.ylabel('Hamming Loss', fontdict={'color': 'black',\n",
    "                          'family': 'Times New Roman',\n",
    "                          'size': 18})\n",
    "plt.legend(['Cosine Similarity','Euclidean Distance'],prop={'style': 'italic'},handlelength=4)#图例\n",
    "plt.grid(True)\n",
    "plt.tight_layout()\n",
    "\n",
    "plt.savefig('D://学习//集思项目//final project//Hamming Loss.jpg',dpi=600)\n",
    "plt.savefig('D://学习//集思项目//final project//Hamming Loss.eps',dpi=600)\n",
    "plt.savefig('D://学习//集思项目//final project//Hamming Loss.pdf',dpi=600)"
   ]
  },
  {
   "cell_type": "code",
   "execution_count": 22,
   "metadata": {},
   "outputs": [
    {
     "name": "stderr",
     "output_type": "stream",
     "text": [
      "The PostScript backend does not support transparency; partially transparent artists will be rendered opaque.\n",
      "The PostScript backend does not support transparency; partially transparent artists will be rendered opaque.\n"
     ]
    },
    {
     "data": {
      "image/png": "[encoded data removed]",
      "text/plain": [
       "<Figure size 432x288 with 1 Axes>"
      ]
     },
     "metadata": {},
     "output_type": "display_data"
    }
   ],
   "source": [
    "import seaborn as sns\n",
    "import matplotlib.pyplot as plt\n",
    "\n",
    "date_palette = [(0.20651240887022015, 0.3755393698154809, 0.5856904756194529),\n",
    " (0.18673086084284554, 0.40157226483269637, 0.4175589767109701)]\n",
    "\n",
    "df_opt_comparison = pd.read_excel('D://Average Precision.xlsx')\n",
    "\n",
    "sns.set(style='ticks')\n",
    "sns.set_context(rc={'lines.linewidth':5})\n",
    "\n",
    "plt.xlim((3,10))\n",
    "plt.ylim((0.50,0.60))\n",
    "plt.xticks(np.arange(3, 11, 1))\n",
    "plt.yticks(np.arange(0.50,0.61,0.02))\n",
    "\n",
    "# palette = sns.diverging_palette(250, 199, l=40, n=4, center=\"dark\")\n",
    "ax = sns.lineplot(x=\"K\", y=\"Average Precision\", hue = 'Metric', \n",
    "                  data=df_opt_comparison, \n",
    "                  markers = False,palette = date_palette, style = 'Metric')\n",
    "plt.xlabel('Number of K', fontdict={'color': 'black',\n",
    "                             'family': 'Times New Roman','size': 18})\n",
    "plt.ylabel('Average Precision', fontdict={'color': 'black',\n",
    "                          'family': 'Times New Roman',\n",
    "                          'size': 18})\n",
    "plt.legend(['Cosine Similarity','Euclidean Distance'],prop={'style': 'italic'},handlelength=4)#图例\n",
    "plt.grid(True)\n",
    "plt.tight_layout()\n",
    "\n",
    "plt.savefig('D://学习//集思项目//final project//Average Precision.jpg',dpi=600)\n",
    "plt.savefig('D://学习//集思项目//final project//Average Precision.eps',dpi=600)\n",
    "plt.savefig('D://学习//集思项目//final project//Average Precision.pdf',dpi=600)"
   ]
  },
  {
   "cell_type": "code",
   "execution_count": null,
   "metadata": {},
   "outputs": [],
   "source": []
  }
 ],
 "metadata": {
  "kernelspec": {
   "display_name": "Python 3",
   "language": "python",
   "name": "python3"
  },
  "language_info": {
   "codemirror_mode": {
    "name": "ipython",
    "version": 3
   },
   "file_extension": ".py",
   "mimetype": "text/x-python",
   "name": "python",
   "nbconvert_exporter": "python",
   "pygments_lexer": "ipython3",
   "version": "3.7.4"
  }
 },
 "nbformat": 4,
 "nbformat_minor": 2
}
